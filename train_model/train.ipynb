{
 "cells": [
  {
   "cell_type": "code",
   "execution_count": 1,
   "id": "2c626949",
   "metadata": {},
   "outputs": [],
   "source": [
    "import pandas as pd\n",
    "import catboost as cb\n",
    "import numpy as np\n",
    "import json\n",
    "\n",
    "pd.options.display.max_columns = 30"
   ]
  },
  {
   "cell_type": "code",
   "execution_count": 2,
   "id": "b948803b",
   "metadata": {},
   "outputs": [],
   "source": [
    "df = pd.read_csv(\"../data/train.csv\", parse_dates=['transaction_time'])\n",
    "\n",
    "df['hour'] = df['transaction_time'].dt.hour\n",
    "df['day_of_week'] = df['transaction_time'].dt.dayofweek\n",
    "df['diff_lat'] = df['lat'] - df['merchant_lat']\n",
    "df['diff_lon'] = df['lon'] - df['merchant_lon']\n",
    "df['name_join'] = df['name_1'] + ' ' + df['name_2']"
   ]
  },
  {
   "cell_type": "code",
   "execution_count": 3,
   "id": "42a667d0",
   "metadata": {},
   "outputs": [],
   "source": [
    "def haversine_vec(lat1, lon1, lat2, lon2):\n",
    "    phi1 = np.radians(lat1); phi2 = np.radians(lat2)\n",
    "    dphi = np.radians(lat2 - lat1); dlambda = np.radians(lon2 - lon1)\n",
    "    a = np.sin(dphi/2.0)**2 + np.cos(phi1)*np.cos(phi2)*(np.sin(dlambda/2.0)**2)\n",
    "    return np.arctan2(np.sqrt(a), np.sqrt(1-a))\n",
    "\n",
    "df['haversine_km'] = haversine_vec(df['lat'], df['lon'], df['merchant_lat'], df['merchant_lon'])"
   ]
  },
  {
   "cell_type": "code",
   "execution_count": 4,
   "id": "6ef4d85e",
   "metadata": {},
   "outputs": [],
   "source": [
    "categorical_features = [\"name_1\", \"gender\", \"us_state\", 'cat_id']\n",
    "numerical_features = [\"amount\", \"haversine_km\", 'population_city']\n",
    "temp_cols = ['merch', 'jobs', 'name_join']\n",
    "\n",
    "from sklearn.model_selection import train_test_split\n",
    "X_train, X_test, y_train, y_test = train_test_split(df[categorical_features + numerical_features + temp_cols], df['target'], test_size=0.25, random_state=42)"
   ]
  },
  {
   "cell_type": "code",
   "execution_count": 5,
   "id": "75dc999b",
   "metadata": {},
   "outputs": [],
   "source": [
    "merchant_count_dict = X_train['merch'].value_counts().to_dict()\n",
    "X_train['merch_count'] = X_train['merch'].map(merchant_count_dict)\n",
    "X_test['merch_count'] = X_test['merch'].map(merchant_count_dict)\n",
    "\n",
    "merchant_jobs_count_dict = X_train.groupby('merch')['jobs'].nunique().to_dict()\n",
    "X_train['merch_jobs_count'] = X_train['merch'].map(merchant_jobs_count_dict)\n",
    "X_test['merch_jobs_count'] = X_test['merch'].map(merchant_jobs_count_dict)\n",
    "\n",
    "name_count_dict = X_train['name_join'].value_counts().to_dict()\n",
    "X_train['name_count'] = X_train['name_join'].map(name_count_dict)\n",
    "X_test['name_count'] = X_test['name_join'].map(name_count_dict)\n",
    "\n",
    "name_merchant_count_dict = X_train.groupby(['name_join', 'merch']).size().to_dict()\n",
    "X_train['name_merchant_count'] = X_train.set_index(['name_join','merch']).index.map(name_merchant_count_dict)\n",
    "X_test['name_merchant_count'] = X_test.set_index(['name_join','merch']).index.map(name_merchant_count_dict)\n",
    "X_train.drop(columns=temp_cols, inplace=True)\n",
    "X_test.drop(columns=temp_cols, inplace=True)\n",
    "\n",
    "stats = {\n",
    "    \"merchant_count_dict\": merchant_count_dict,\n",
    "    \"merchant_jobs_count_dict\": merchant_jobs_count_dict,\n",
    "    \"name_count_dict\": name_count_dict,\n",
    "    \"name_merchant_count_dict\": {str(k): v for k, v in name_merchant_count_dict.items()}\n",
    "}\n",
    "with open(\"../data/models/stats.json\", \"w\", encoding='utf-8') as f:\n",
    "    json.dump(stats, f, ensure_ascii=False, indent=2)"
   ]
  },
  {
   "cell_type": "code",
   "execution_count": 6,
   "id": "334fe705",
   "metadata": {},
   "outputs": [
    {
     "name": "stdout",
     "output_type": "stream",
     "text": [
      "Learning rate set to 0.228234\n",
      "0:\ttest: 0.7401557\tbest: 0.7401557 (0)\ttotal: 191ms\tremaining: 1m 16s\n",
      "100:\ttest: 0.9838083\tbest: 0.9838083 (100)\ttotal: 8.6s\tremaining: 25.5s\n",
      "200:\ttest: 0.9885079\tbest: 0.9885123 (198)\ttotal: 16.7s\tremaining: 16.6s\n",
      "300:\ttest: 0.9903853\tbest: 0.9903956 (295)\ttotal: 24.9s\tremaining: 8.2s\n",
      "399:\ttest: 0.9932075\tbest: 0.9932171 (390)\ttotal: 33s\tremaining: 0us\n",
      "\n",
      "bestTest = 0.9932170979\n",
      "bestIteration = 390\n",
      "\n",
      "Shrink model to first 391 iterations.\n",
      "Лучший threshold: 0.42\n",
      "Лучший F1: 0.7677\n"
     ]
    }
   ],
   "source": [
    "model = cb.CatBoostClassifier(\n",
    "    depth=4,\n",
    "    iterations=400,\n",
    "\n",
    "    cat_features=categorical_features,\n",
    "    eval_metric=\"AUC\",\n",
    "    random_seed=42,\n",
    "    verbose=100,\n",
    "    train_dir=None,\n",
    "    allow_writing_files=False,\n",
    "    thread_count=6,\n",
    ")\n",
    "\n",
    "model.fit(cb.Pool(X_train, y_train, cat_features=categorical_features), eval_set=(X_test, y_test))\n",
    "\n",
    "from sklearn.metrics import f1_score\n",
    "import numpy as np\n",
    "\n",
    "preds = model.predict_proba(X_test)[:, 1]\n",
    "\n",
    "# Подбор оптимального threshold по f1 меру\n",
    "thresholds = np.arange(0.0, 1.01, 0.01)\n",
    "f1_scores = [f1_score(y_test, preds > t) for t in thresholds]\n",
    "best_threshold = thresholds[np.argmax(f1_scores)]\n",
    "best_f1 = np.max(f1_scores)\n",
    "\n",
    "print(f\"Лучший threshold: {best_threshold:.2f}\")\n",
    "print(f\"Лучший F1: {best_f1:.4f}\")"
   ]
  },
  {
   "cell_type": "code",
   "execution_count": 7,
   "id": "3e2ce0d8",
   "metadata": {},
   "outputs": [
    {
     "data": {
      "text/html": [
       "<div>\n",
       "<style scoped>\n",
       "    .dataframe tbody tr th:only-of-type {\n",
       "        vertical-align: middle;\n",
       "    }\n",
       "\n",
       "    .dataframe tbody tr th {\n",
       "        vertical-align: top;\n",
       "    }\n",
       "\n",
       "    .dataframe thead th {\n",
       "        text-align: right;\n",
       "    }\n",
       "</style>\n",
       "<table border=\"1\" class=\"dataframe\">\n",
       "  <thead>\n",
       "    <tr style=\"text-align: right;\">\n",
       "      <th></th>\n",
       "      <th>name</th>\n",
       "      <th>importance</th>\n",
       "    </tr>\n",
       "  </thead>\n",
       "  <tbody>\n",
       "    <tr>\n",
       "      <th>4</th>\n",
       "      <td>amount</td>\n",
       "      <td>47.441677</td>\n",
       "    </tr>\n",
       "    <tr>\n",
       "      <th>3</th>\n",
       "      <td>cat_id</td>\n",
       "      <td>30.704949</td>\n",
       "    </tr>\n",
       "    <tr>\n",
       "      <th>7</th>\n",
       "      <td>merch_count</td>\n",
       "      <td>8.595642</td>\n",
       "    </tr>\n",
       "    <tr>\n",
       "      <th>9</th>\n",
       "      <td>name_count</td>\n",
       "      <td>3.910260</td>\n",
       "    </tr>\n",
       "    <tr>\n",
       "      <th>8</th>\n",
       "      <td>merch_jobs_count</td>\n",
       "      <td>2.704180</td>\n",
       "    </tr>\n",
       "    <tr>\n",
       "      <th>6</th>\n",
       "      <td>population_city</td>\n",
       "      <td>2.580900</td>\n",
       "    </tr>\n",
       "    <tr>\n",
       "      <th>1</th>\n",
       "      <td>gender</td>\n",
       "      <td>1.187364</td>\n",
       "    </tr>\n",
       "    <tr>\n",
       "      <th>0</th>\n",
       "      <td>name_1</td>\n",
       "      <td>0.948541</td>\n",
       "    </tr>\n",
       "    <tr>\n",
       "      <th>5</th>\n",
       "      <td>haversine_km</td>\n",
       "      <td>0.873591</td>\n",
       "    </tr>\n",
       "    <tr>\n",
       "      <th>2</th>\n",
       "      <td>us_state</td>\n",
       "      <td>0.590908</td>\n",
       "    </tr>\n",
       "    <tr>\n",
       "      <th>10</th>\n",
       "      <td>name_merchant_count</td>\n",
       "      <td>0.461988</td>\n",
       "    </tr>\n",
       "  </tbody>\n",
       "</table>\n",
       "</div>"
      ],
      "text/plain": [
       "                   name  importance\n",
       "4                amount   47.441677\n",
       "3                cat_id   30.704949\n",
       "7           merch_count    8.595642\n",
       "9            name_count    3.910260\n",
       "8      merch_jobs_count    2.704180\n",
       "6       population_city    2.580900\n",
       "1                gender    1.187364\n",
       "0                name_1    0.948541\n",
       "5          haversine_km    0.873591\n",
       "2              us_state    0.590908\n",
       "10  name_merchant_count    0.461988"
      ]
     },
     "execution_count": 7,
     "metadata": {},
     "output_type": "execute_result"
    }
   ],
   "source": [
    "pd.DataFrame({\n",
    "    \"name\": X_train.columns,\n",
    "    \"importance\": model.feature_importances_\n",
    "}).sort_values(\"importance\", ascending=False)"
   ]
  },
  {
   "cell_type": "code",
   "execution_count": 8,
   "id": "7bf60544",
   "metadata": {},
   "outputs": [],
   "source": [
    "model.save_model(\"../data/models/catboost_model.cbm\")"
   ]
  },
  {
   "cell_type": "code",
   "execution_count": 10,
   "id": "cea91bb8",
   "metadata": {},
   "outputs": [
    {
     "data": {
      "text/plain": [
       "target\n",
       "0    781927\n",
       "1      4504\n",
       "Name: count, dtype: int64"
      ]
     },
     "execution_count": 10,
     "metadata": {},
     "output_type": "execute_result"
    }
   ],
   "source": [
    "df['target'].value_counts()"
   ]
  },
  {
   "cell_type": "code",
   "execution_count": null,
   "id": "9209fe23",
   "metadata": {},
   "outputs": [],
   "source": []
  }
 ],
 "metadata": {
  "kernelspec": {
   "display_name": "venv_fastdeploy",
   "language": "python",
   "name": "python3"
  },
  "language_info": {
   "codemirror_mode": {
    "name": "ipython",
    "version": 3
   },
   "file_extension": ".py",
   "mimetype": "text/x-python",
   "name": "python",
   "nbconvert_exporter": "python",
   "pygments_lexer": "ipython3",
   "version": "3.10.16"
  }
 },
 "nbformat": 4,
 "nbformat_minor": 5
}
